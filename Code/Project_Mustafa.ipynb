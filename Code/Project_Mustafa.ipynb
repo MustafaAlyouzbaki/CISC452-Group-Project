{
 "cells": [
  {
   "cell_type": "markdown",
   "metadata": {},
   "source": [
    "CISC 452 Project - Fake News Classification"
   ]
  },
  {
   "cell_type": "markdown",
   "metadata": {},
   "source": [
    "[Project Document](https://docs.google.com/document/d/1Tv7F2FekBnIWUG2trPklvoZFMEhunhSry0VbfdoP_jI/edit?tab=t.0)\n",
    "\n",
    "[Dataset](https://www.kaggle.com/datasets/saurabhshahane/fake-news-classification?resource=download)"
   ]
  },
  {
   "cell_type": "markdown",
   "metadata": {},
   "source": [
    "Import Libraries"
   ]
  },
  {
   "cell_type": "code",
   "execution_count": 2,
   "metadata": {},
   "outputs": [],
   "source": [
    "import pandas as pd\n",
    "import numpy as np\n",
    "from sklearn.model_selection import train_test_split\n",
    "import matplotlib.pyplot as plt"
   ]
  },
  {
   "cell_type": "markdown",
   "metadata": {},
   "source": [
    "Load & View Dataset"
   ]
  },
  {
   "cell_type": "code",
   "execution_count": 3,
   "metadata": {},
   "outputs": [
    {
     "data": {
      "text/html": [
       "<div>\n",
       "<style scoped>\n",
       "    .dataframe tbody tr th:only-of-type {\n",
       "        vertical-align: middle;\n",
       "    }\n",
       "\n",
       "    .dataframe tbody tr th {\n",
       "        vertical-align: top;\n",
       "    }\n",
       "\n",
       "    .dataframe thead th {\n",
       "        text-align: right;\n",
       "    }\n",
       "</style>\n",
       "<table border=\"1\" class=\"dataframe\">\n",
       "  <thead>\n",
       "    <tr style=\"text-align: right;\">\n",
       "      <th></th>\n",
       "      <th>Unnamed: 0</th>\n",
       "      <th>title</th>\n",
       "      <th>text</th>\n",
       "      <th>label</th>\n",
       "    </tr>\n",
       "  </thead>\n",
       "  <tbody>\n",
       "    <tr>\n",
       "      <th>0</th>\n",
       "      <td>0</td>\n",
       "      <td>LAW ENFORCEMENT ON HIGH ALERT Following Threat...</td>\n",
       "      <td>No comment is expected from Barack Obama Membe...</td>\n",
       "      <td>1</td>\n",
       "    </tr>\n",
       "    <tr>\n",
       "      <th>1</th>\n",
       "      <td>1</td>\n",
       "      <td>NaN</td>\n",
       "      <td>Did they post their votes for Hillary already?</td>\n",
       "      <td>1</td>\n",
       "    </tr>\n",
       "    <tr>\n",
       "      <th>2</th>\n",
       "      <td>2</td>\n",
       "      <td>UNBELIEVABLE! OBAMA’S ATTORNEY GENERAL SAYS MO...</td>\n",
       "      <td>Now, most of the demonstrators gathered last ...</td>\n",
       "      <td>1</td>\n",
       "    </tr>\n",
       "    <tr>\n",
       "      <th>3</th>\n",
       "      <td>3</td>\n",
       "      <td>Bobby Jindal, raised Hindu, uses story of Chri...</td>\n",
       "      <td>A dozen politically active pastors came here f...</td>\n",
       "      <td>0</td>\n",
       "    </tr>\n",
       "    <tr>\n",
       "      <th>4</th>\n",
       "      <td>4</td>\n",
       "      <td>SATAN 2: Russia unvelis an image of its terrif...</td>\n",
       "      <td>The RS-28 Sarmat missile, dubbed Satan 2, will...</td>\n",
       "      <td>1</td>\n",
       "    </tr>\n",
       "  </tbody>\n",
       "</table>\n",
       "</div>"
      ],
      "text/plain": [
       "   Unnamed: 0                                              title  \\\n",
       "0           0  LAW ENFORCEMENT ON HIGH ALERT Following Threat...   \n",
       "1           1                                                NaN   \n",
       "2           2  UNBELIEVABLE! OBAMA’S ATTORNEY GENERAL SAYS MO...   \n",
       "3           3  Bobby Jindal, raised Hindu, uses story of Chri...   \n",
       "4           4  SATAN 2: Russia unvelis an image of its terrif...   \n",
       "\n",
       "                                                text  label  \n",
       "0  No comment is expected from Barack Obama Membe...      1  \n",
       "1     Did they post their votes for Hillary already?      1  \n",
       "2   Now, most of the demonstrators gathered last ...      1  \n",
       "3  A dozen politically active pastors came here f...      0  \n",
       "4  The RS-28 Sarmat missile, dubbed Satan 2, will...      1  "
      ]
     },
     "execution_count": 3,
     "metadata": {},
     "output_type": "execute_result"
    }
   ],
   "source": [
    "df = pd.read_csv('WELFake_Dataset.csv')\n",
    "df.head()"
   ]
  },
  {
   "cell_type": "markdown",
   "metadata": {},
   "source": [
    "Distribution of Fake vs Real News"
   ]
  },
  {
   "cell_type": "code",
   "execution_count": 4,
   "metadata": {},
   "outputs": [
    {
     "name": "stdout",
     "output_type": "stream",
     "text": [
      "label\n",
      "1    37106\n",
      "0    35028\n",
      "Name: count, dtype: int64\n"
     ]
    }
   ],
   "source": [
    "# Label 1 = Fake-News, Label 0 = Real-News\n",
    "\n",
    "label = df['label'].value_counts()\n",
    "print(label)"
   ]
  },
  {
   "cell_type": "code",
   "execution_count": 5,
   "metadata": {},
   "outputs": [
    {
     "data": {
      "image/png": "[encoded data removed]",
      "text/plain": [
       "<Figure size 640x480 with 1 Axes>"
      ]
     },
     "metadata": {},
     "output_type": "display_data"
    }
   ],
   "source": [
    "# Plot Distribution of Data\n",
    "\n",
    "plt.bar(label.index, label.values, color=['red','blue'])\n",
    "plt.xlabel('Label')\n",
    "plt.ylabel('Count')\n",
    "plt.title('Disturbution of Fake vs Real News')\n",
    "plt.xticks([0, 1], [\"0=Real\", \"1=Fake\"])\n",
    "plt.show()\n"
   ]
  },
  {
   "cell_type": "markdown",
   "metadata": {},
   "source": [
    "Data Preprocessing"
   ]
  },
  {
   "cell_type": "code",
   "execution_count": 6,
   "metadata": {},
   "outputs": [
    {
     "data": {
      "text/html": [
       "<div>\n",
       "<style scoped>\n",
       "    .dataframe tbody tr th:only-of-type {\n",
       "        vertical-align: middle;\n",
       "    }\n",
       "\n",
       "    .dataframe tbody tr th {\n",
       "        vertical-align: top;\n",
       "    }\n",
       "\n",
       "    .dataframe thead th {\n",
       "        text-align: right;\n",
       "    }\n",
       "</style>\n",
       "<table border=\"1\" class=\"dataframe\">\n",
       "  <thead>\n",
       "    <tr style=\"text-align: right;\">\n",
       "      <th></th>\n",
       "      <th>title</th>\n",
       "      <th>text</th>\n",
       "      <th>label</th>\n",
       "    </tr>\n",
       "  </thead>\n",
       "  <tbody>\n",
       "    <tr>\n",
       "      <th>0</th>\n",
       "      <td>LAW ENFORCEMENT ON HIGH ALERT Following Threat...</td>\n",
       "      <td>No comment is expected from Barack Obama Membe...</td>\n",
       "      <td>1</td>\n",
       "    </tr>\n",
       "    <tr>\n",
       "      <th>1</th>\n",
       "      <td>NaN</td>\n",
       "      <td>Did they post their votes for Hillary already?</td>\n",
       "      <td>1</td>\n",
       "    </tr>\n",
       "    <tr>\n",
       "      <th>2</th>\n",
       "      <td>UNBELIEVABLE! OBAMA’S ATTORNEY GENERAL SAYS MO...</td>\n",
       "      <td>Now, most of the demonstrators gathered last ...</td>\n",
       "      <td>1</td>\n",
       "    </tr>\n",
       "    <tr>\n",
       "      <th>3</th>\n",
       "      <td>Bobby Jindal, raised Hindu, uses story of Chri...</td>\n",
       "      <td>A dozen politically active pastors came here f...</td>\n",
       "      <td>0</td>\n",
       "    </tr>\n",
       "    <tr>\n",
       "      <th>4</th>\n",
       "      <td>SATAN 2: Russia unvelis an image of its terrif...</td>\n",
       "      <td>The RS-28 Sarmat missile, dubbed Satan 2, will...</td>\n",
       "      <td>1</td>\n",
       "    </tr>\n",
       "  </tbody>\n",
       "</table>\n",
       "</div>"
      ],
      "text/plain": [
       "                                               title  \\\n",
       "0  LAW ENFORCEMENT ON HIGH ALERT Following Threat...   \n",
       "1                                                NaN   \n",
       "2  UNBELIEVABLE! OBAMA’S ATTORNEY GENERAL SAYS MO...   \n",
       "3  Bobby Jindal, raised Hindu, uses story of Chri...   \n",
       "4  SATAN 2: Russia unvelis an image of its terrif...   \n",
       "\n",
       "                                                text  label  \n",
       "0  No comment is expected from Barack Obama Membe...      1  \n",
       "1     Did they post their votes for Hillary already?      1  \n",
       "2   Now, most of the demonstrators gathered last ...      1  \n",
       "3  A dozen politically active pastors came here f...      0  \n",
       "4  The RS-28 Sarmat missile, dubbed Satan 2, will...      1  "
      ]
     },
     "execution_count": 6,
     "metadata": {},
     "output_type": "execute_result"
    }
   ],
   "source": [
    "# remove first column\n",
    "\n",
    "df.drop(columns=['Unnamed: 0'], inplace=True, axis=1)\n",
    "df.head()"
   ]
  },
  {
   "cell_type": "code",
   "execution_count": 7,
   "metadata": {},
   "outputs": [
    {
     "data": {
      "text/plain": [
       "title    558\n",
       "text      39\n",
       "label      0\n",
       "dtype: int64"
      ]
     },
     "execution_count": 7,
     "metadata": {},
     "output_type": "execute_result"
    }
   ],
   "source": [
    "# count number of missing values from dataframe\n",
    "\n",
    "df.isnull().sum()"
   ]
  },
  {
   "cell_type": "code",
   "execution_count": 8,
   "metadata": {},
   "outputs": [
    {
     "data": {
      "text/html": [
       "<div>\n",
       "<style scoped>\n",
       "    .dataframe tbody tr th:only-of-type {\n",
       "        vertical-align: middle;\n",
       "    }\n",
       "\n",
       "    .dataframe tbody tr th {\n",
       "        vertical-align: top;\n",
       "    }\n",
       "\n",
       "    .dataframe thead th {\n",
       "        text-align: right;\n",
       "    }\n",
       "</style>\n",
       "<table border=\"1\" class=\"dataframe\">\n",
       "  <thead>\n",
       "    <tr style=\"text-align: right;\">\n",
       "      <th></th>\n",
       "      <th>title</th>\n",
       "      <th>text</th>\n",
       "      <th>label</th>\n",
       "    </tr>\n",
       "  </thead>\n",
       "  <tbody>\n",
       "    <tr>\n",
       "      <th>0</th>\n",
       "      <td>LAW ENFORCEMENT ON HIGH ALERT Following Threat...</td>\n",
       "      <td>No comment is expected from Barack Obama Membe...</td>\n",
       "      <td>1</td>\n",
       "    </tr>\n",
       "    <tr>\n",
       "      <th>1</th>\n",
       "      <td></td>\n",
       "      <td>Did they post their votes for Hillary already?</td>\n",
       "      <td>1</td>\n",
       "    </tr>\n",
       "    <tr>\n",
       "      <th>2</th>\n",
       "      <td>UNBELIEVABLE! OBAMA’S ATTORNEY GENERAL SAYS MO...</td>\n",
       "      <td>Now, most of the demonstrators gathered last ...</td>\n",
       "      <td>1</td>\n",
       "    </tr>\n",
       "    <tr>\n",
       "      <th>3</th>\n",
       "      <td>Bobby Jindal, raised Hindu, uses story of Chri...</td>\n",
       "      <td>A dozen politically active pastors came here f...</td>\n",
       "      <td>0</td>\n",
       "    </tr>\n",
       "    <tr>\n",
       "      <th>4</th>\n",
       "      <td>SATAN 2: Russia unvelis an image of its terrif...</td>\n",
       "      <td>The RS-28 Sarmat missile, dubbed Satan 2, will...</td>\n",
       "      <td>1</td>\n",
       "    </tr>\n",
       "  </tbody>\n",
       "</table>\n",
       "</div>"
      ],
      "text/plain": [
       "                                               title  \\\n",
       "0  LAW ENFORCEMENT ON HIGH ALERT Following Threat...   \n",
       "1                                                      \n",
       "2  UNBELIEVABLE! OBAMA’S ATTORNEY GENERAL SAYS MO...   \n",
       "3  Bobby Jindal, raised Hindu, uses story of Chri...   \n",
       "4  SATAN 2: Russia unvelis an image of its terrif...   \n",
       "\n",
       "                                                text  label  \n",
       "0  No comment is expected from Barack Obama Membe...      1  \n",
       "1     Did they post their votes for Hillary already?      1  \n",
       "2   Now, most of the demonstrators gathered last ...      1  \n",
       "3  A dozen politically active pastors came here f...      0  \n",
       "4  The RS-28 Sarmat missile, dubbed Satan 2, will...      1  "
      ]
     },
     "execution_count": 8,
     "metadata": {},
     "output_type": "execute_result"
    }
   ],
   "source": [
    "# fill null values with space\n",
    "\n",
    "df.fillna(' ', inplace=True)\n",
    "df.isnull().sum()\n",
    "df.head()"
   ]
  },
  {
   "cell_type": "code",
   "execution_count": 9,
   "metadata": {},
   "outputs": [
    {
     "data": {
      "text/html": [
       "<div>\n",
       "<style scoped>\n",
       "    .dataframe tbody tr th:only-of-type {\n",
       "        vertical-align: middle;\n",
       "    }\n",
       "\n",
       "    .dataframe tbody tr th {\n",
       "        vertical-align: top;\n",
       "    }\n",
       "\n",
       "    .dataframe thead th {\n",
       "        text-align: right;\n",
       "    }\n",
       "</style>\n",
       "<table border=\"1\" class=\"dataframe\">\n",
       "  <thead>\n",
       "    <tr style=\"text-align: right;\">\n",
       "      <th></th>\n",
       "      <th>title</th>\n",
       "      <th>text</th>\n",
       "      <th>label</th>\n",
       "    </tr>\n",
       "  </thead>\n",
       "  <tbody>\n",
       "    <tr>\n",
       "      <th>0</th>\n",
       "      <td>law enforc high alert follow threat cop white ...</td>\n",
       "      <td>No comment is expected from Barack Obama Membe...</td>\n",
       "      <td>1</td>\n",
       "    </tr>\n",
       "    <tr>\n",
       "      <th>1</th>\n",
       "      <td></td>\n",
       "      <td>Did they post their votes for Hillary already?</td>\n",
       "      <td>1</td>\n",
       "    </tr>\n",
       "    <tr>\n",
       "      <th>2</th>\n",
       "      <td>unbeliev obama attorney gener say charlott rio...</td>\n",
       "      <td>Now, most of the demonstrators gathered last ...</td>\n",
       "      <td>1</td>\n",
       "    </tr>\n",
       "    <tr>\n",
       "      <th>3</th>\n",
       "      <td>bobbi jindal rais hindu use stori christian co...</td>\n",
       "      <td>A dozen politically active pastors came here f...</td>\n",
       "      <td>0</td>\n",
       "    </tr>\n",
       "    <tr>\n",
       "      <th>4</th>\n",
       "      <td>satan russia unv imag terrifi new supernuk wes...</td>\n",
       "      <td>The RS-28 Sarmat missile, dubbed Satan 2, will...</td>\n",
       "      <td>1</td>\n",
       "    </tr>\n",
       "  </tbody>\n",
       "</table>\n",
       "</div>"
      ],
      "text/plain": [
       "                                               title  \\\n",
       "0  law enforc high alert follow threat cop white ...   \n",
       "1                                                      \n",
       "2  unbeliev obama attorney gener say charlott rio...   \n",
       "3  bobbi jindal rais hindu use stori christian co...   \n",
       "4  satan russia unv imag terrifi new supernuk wes...   \n",
       "\n",
       "                                                text  label  \n",
       "0  No comment is expected from Barack Obama Membe...      1  \n",
       "1     Did they post their votes for Hillary already?      1  \n",
       "2   Now, most of the demonstrators gathered last ...      1  \n",
       "3  A dozen politically active pastors came here f...      0  \n",
       "4  The RS-28 Sarmat missile, dubbed Satan 2, will...      1  "
      ]
     },
     "execution_count": 9,
     "metadata": {},
     "output_type": "execute_result"
    }
   ],
   "source": [
    "# Clean Text\n",
    " \n",
    "import re\n",
    "import nltk     \n",
    "from nltk.corpus import stopwords\n",
    "from nltk.tokenize import word_tokenize\n",
    "from nltk.stem import PorterStemmer\n",
    "\n",
    "stemmer = PorterStemmer()\n",
    "\n",
    "def clean(text):\n",
    "    \n",
    "    clean_text = str(text)\n",
    "    \n",
    "    clean_text = re.sub(r'[^a-zA-Z\\s]','',clean_text) # Remove punctuation, numbers, special characters\n",
    "    \n",
    "    clean_text = clean_text.lower()  # Convert text to lowercase\n",
    "\n",
    "    tokens = clean_text.split() # Perform tokenization on text\n",
    "    \n",
    "    stemm_tokens = [stemmer.stem(word) for word in tokens] # perform stemming on the tokens\n",
    "    \n",
    "    stop_words = set(stopwords.words('english')) # Get stopwords\n",
    "    clean_text = [word for word in stemm_tokens if word not in stop_words] # remove stopwords from list of words\n",
    "    \n",
    "    \n",
    "    return \" \".join(clean_text) # Join list of words back into a string\n",
    "\n",
    "df['title'] = df['title'].apply(clean) # Apply clean function to title column\n",
    "\n",
    "df.head()\n"
   ]
  },
  {
   "cell_type": "code",
   "execution_count": 10,
   "metadata": {},
   "outputs": [
    {
     "data": {
      "text/html": [
       "<div>\n",
       "<style scoped>\n",
       "    .dataframe tbody tr th:only-of-type {\n",
       "        vertical-align: middle;\n",
       "    }\n",
       "\n",
       "    .dataframe tbody tr th {\n",
       "        vertical-align: top;\n",
       "    }\n",
       "\n",
       "    .dataframe thead th {\n",
       "        text-align: right;\n",
       "    }\n",
       "</style>\n",
       "<table border=\"1\" class=\"dataframe\">\n",
       "  <thead>\n",
       "    <tr style=\"text-align: right;\">\n",
       "      <th></th>\n",
       "      <th>title</th>\n",
       "      <th>label</th>\n",
       "    </tr>\n",
       "  </thead>\n",
       "  <tbody>\n",
       "    <tr>\n",
       "      <th>0</th>\n",
       "      <td>law enforc high alert follow threat cop white ...</td>\n",
       "      <td>1</td>\n",
       "    </tr>\n",
       "    <tr>\n",
       "      <th>1</th>\n",
       "      <td></td>\n",
       "      <td>1</td>\n",
       "    </tr>\n",
       "    <tr>\n",
       "      <th>2</th>\n",
       "      <td>unbeliev obama attorney gener say charlott rio...</td>\n",
       "      <td>1</td>\n",
       "    </tr>\n",
       "    <tr>\n",
       "      <th>3</th>\n",
       "      <td>bobbi jindal rais hindu use stori christian co...</td>\n",
       "      <td>0</td>\n",
       "    </tr>\n",
       "    <tr>\n",
       "      <th>4</th>\n",
       "      <td>satan russia unv imag terrifi new supernuk wes...</td>\n",
       "      <td>1</td>\n",
       "    </tr>\n",
       "  </tbody>\n",
       "</table>\n",
       "</div>"
      ],
      "text/plain": [
       "                                               title  label\n",
       "0  law enforc high alert follow threat cop white ...      1\n",
       "1                                                         1\n",
       "2  unbeliev obama attorney gener say charlott rio...      1\n",
       "3  bobbi jindal rais hindu use stori christian co...      0\n",
       "4  satan russia unv imag terrifi new supernuk wes...      1"
      ]
     },
     "execution_count": 10,
     "metadata": {},
     "output_type": "execute_result"
    }
   ],
   "source": [
    "# Drop Text Column\n",
    "\n",
    "df.drop(columns=['text'], inplace=True, axis=1)\n",
    "\n",
    "df.head()"
   ]
  },
  {
   "cell_type": "code",
   "execution_count": 11,
   "metadata": {},
   "outputs": [],
   "source": [
    "# Define Feature and Target Variables\n",
    "\n",
    "X = df['title'].values  # Feature\n",
    "y = df['label'].values  # Target"
   ]
  },
  {
   "cell_type": "markdown",
   "metadata": {},
   "source": [
    "Perform TF-IDF Vectorization on Dataset"
   ]
  },
  {
   "cell_type": "code",
   "execution_count": 12,
   "metadata": {},
   "outputs": [
    {
     "name": "stdout",
     "output_type": "stream",
     "text": [
      "<Compressed Sparse Row sparse matrix of dtype 'float64'\n",
      "\twith 640768 stored elements and shape (72134, 25135)>\n",
      "  Coords\tValues\n",
      "  (0, 12447)\t0.23034141165066577\n",
      "  (0, 7000)\t0.3177168148047847\n",
      "  (0, 10161)\t0.2738111480602588\n",
      "  (0, 511)\t0.31730687314400363\n",
      "  (0, 8314)\t0.2885916804200784\n",
      "  (0, 22154)\t0.25352235062479594\n",
      "  (0, 4708)\t0.25168565360198175\n",
      "  (0, 24467)\t0.19120636187649795\n",
      "  (0, 2386)\t0.3335359080112042\n",
      "  (0, 8726)\t0.4829269651769182\n",
      "  (0, 21997)\t0.24807949983741043\n",
      "  (0, 23830)\t0.1298856725356679\n",
      "  (2, 23830)\t0.12305360994886021\n",
      "  (2, 23109)\t0.3270665750037422\n",
      "  (2, 15368)\t0.15490456622588997\n",
      "  (2, 1487)\t0.25872801761400843\n",
      "  (2, 8907)\t0.24209532332049763\n",
      "  (2, 19396)\t0.1466791694607408\n",
      "  (2, 3746)\t0.3310112331558339\n",
      "  (2, 18782)\t0.33019041068692767\n",
      "  (2, 16350)\t0.25402426311626203\n",
      "  (2, 17548)\t0.45752472344744827\n",
      "  (2, 10400)\t0.24670641175737698\n",
      "  (2, 21031)\t0.18301808114174997\n",
      "  (2, 15179)\t0.20307222300586106\n",
      "  :\t:\n",
      "  (72130, 17878)\t0.3333464789069415\n",
      "  (72130, 5630)\t0.3586734245525354\n",
      "  (72130, 2348)\t0.49170323618089157\n",
      "  (72131, 13961)\t0.3561218851636536\n",
      "  (72131, 12525)\t0.33932819283780086\n",
      "  (72131, 22487)\t0.39735347953212735\n",
      "  (72131, 18293)\t0.3249026661244531\n",
      "  (72131, 18307)\t0.35451373487158067\n",
      "  (72131, 3297)\t0.39534895912410345\n",
      "  (72131, 10647)\t0.46108704450324994\n",
      "  (72132, 22677)\t0.10477735427513445\n",
      "  (72132, 9048)\t0.24501210878281518\n",
      "  (72132, 12493)\t0.2324695655773841\n",
      "  (72132, 20061)\t0.29100794573649613\n",
      "  (72132, 1272)\t0.28848783431255304\n",
      "  (72132, 23348)\t0.39505041413514197\n",
      "  (72132, 13876)\t0.3114492855018643\n",
      "  (72132, 22939)\t0.4419913424741409\n",
      "  (72132, 14482)\t0.5085430017835053\n",
      "  (72133, 4126)\t0.2613748395805928\n",
      "  (72133, 17213)\t0.29113298496821194\n",
      "  (72133, 10210)\t0.2573656043758796\n",
      "  (72133, 6984)\t0.42033437417761543\n",
      "  (72133, 19177)\t0.5530139689694273\n",
      "  (72133, 9169)\t0.5460606999147166\n"
     ]
    }
   ],
   "source": [
    "from sklearn.feature_extraction.text import TfidfVectorizer\n",
    "\n",
    "# Initialize TF-IDF Vectorizer Object\n",
    "vectorizer = TfidfVectorizer()\n",
    "\n",
    "# Fit and Transform Data\n",
    "X = vectorizer.fit_transform(X)\n",
    "\n",
    "print(X)"
   ]
  },
  {
   "cell_type": "markdown",
   "metadata": {},
   "source": [
    "Split Dataset into Train & Test "
   ]
  },
  {
   "cell_type": "code",
   "execution_count": 13,
   "metadata": {},
   "outputs": [
    {
     "name": "stdout",
     "output_type": "stream",
     "text": [
      "(57707, 25135)\n",
      "(14427, 25135)\n",
      "(57707,)\n",
      "(14427,)\n"
     ]
    }
   ],
   "source": [
    "X_train, X_test, y_train, y_test = train_test_split(X, y, test_size=0.20, random_state=42, stratify=y)\n",
    "\n",
    "print(X_train.shape)\n",
    "print(X_test.shape)\n",
    "print(y_train.shape)\n",
    "print(y_test.shape)"
   ]
  },
  {
   "cell_type": "markdown",
   "metadata": {},
   "source": [
    "Perform Dimensionaility Reduction (Truncated SVD)"
   ]
  },
  {
   "cell_type": "code",
   "execution_count": 14,
   "metadata": {},
   "outputs": [
    {
     "name": "stdout",
     "output_type": "stream",
     "text": [
      "(57707, 1000)\n",
      "(14427, 1000)\n"
     ]
    }
   ],
   "source": [
    "from sklearn.decomposition import TruncatedSVD\n",
    "\n",
    "# Initalize TruncatedSVD\n",
    "# Retain 1000 Features\n",
    "\n",
    "\n",
    "svd = TruncatedSVD(n_components=1000)\n",
    "\n",
    "# Apply on Train data\n",
    "X_train = svd.fit_transform(X_train)\n",
    "\n",
    "# Apply on Test data\n",
    "X_test = svd.transform(X_test)\n",
    "\n",
    "print(X_train.shape)\n",
    "print(X_test.shape)\n",
    "\n"
   ]
  },
  {
   "cell_type": "markdown",
   "metadata": {},
   "source": [
    "Building the Neural Network"
   ]
  },
  {
   "cell_type": "code",
   "execution_count": 15,
   "metadata": {},
   "outputs": [],
   "source": [
    "import torch\n",
    "from torch import nn\n",
    "from torch.utils.data import DataLoader\n",
    "from torchvision import datasets, transforms\n",
    "\n",
    "class NeuralNetwork(nn.Module):\n",
    "    \n",
    "    def __init__(self):\n",
    "        \n",
    "        super(NeuralNetwork, self).__init__()\n",
    "        \n",
    "        # Input to Hidden Layer\n",
    "        self.input = nn.Linear(1000, 500)  # 1000 Inputs, 500 out\n",
    "        # Activation Function RELU\n",
    "        self.relu1 = nn.ReLU()              \n",
    "        \n",
    "        # Hidden Layer 1 to Hidden Layer 2\n",
    "        self.hidden1 = nn.Linear(500, 250)   # 500 Inputs, 250 out\n",
    "        # Activation Function RELU\n",
    "        self.relu2 = nn.ReLU()\n",
    "         \n",
    "        # Hidden layer 2 to Hidden Layer 3\n",
    "        self.hidden2 = nn.Linear(250, 50)    # 250 Inputs, 50 out\n",
    "        # Activation Function RELU\n",
    "        self.relu3 = nn.ReLU()\n",
    "        \n",
    "        \n",
    "        # Hidden Layer 3 to Output\n",
    "        self.hidden3 = nn.Linear(50, 1)   # 50 Inputs, 1 out\n",
    "       \n",
    "    \n",
    "    \n",
    "    def forward(self, x):\n",
    "        \n",
    "        # Input Layer\n",
    "        x = self.input(x)\n",
    "        x = self.relu1(x)\n",
    "        \n",
    "        # Hidden Layer 1\n",
    "        x = self.hidden1(x)\n",
    "        x = self.relu2(x)\n",
    "        \n",
    "        # Hidden Layer 2\n",
    "        x = self.hidden2(x)\n",
    "        x = self.relu3(x)\n",
    "        \n",
    "        # Hidden Layer 3 (Output)\n",
    "        x = self.hidden3(x)\n",
    "       \n",
    "        \n",
    "        return x\n",
    "\n",
    "# Initalize Model\n",
    "model = NeuralNetwork()\n",
    "# Iniliztie ADAM optimizer, to update weights of the model\n",
    "optimize = torch.optim.Adam(model.parameters(), lr=0.01)\n",
    "# Define Loss Function (Binary Cross Entropy)\n",
    "# Combines Sigmoid with Binary cross entropy\n",
    "error = nn.BCEWithLogitsLoss()"
   ]
  },
  {
   "cell_type": "code",
   "execution_count": 16,
   "metadata": {},
   "outputs": [],
   "source": [
    "# Convert Dataset to pytorch tensors\n",
    "X_train = torch.tensor(X_train, dtype=torch.float32)\n",
    "X_test = torch.tensor(X_test, dtype=torch.float32)\n",
    "y_train = torch.tensor(y_train, dtype=torch.float32)\n",
    "y_test = torch.tensor(y_test, dtype=torch.float32)\n"
   ]
  },
  {
   "cell_type": "markdown",
   "metadata": {},
   "source": [
    "Train the Model"
   ]
  },
  {
   "cell_type": "code",
   "execution_count": 17,
   "metadata": {},
   "outputs": [
    {
     "name": "stdout",
     "output_type": "stream",
     "text": [
      "Loss after iteration 1 = 0.6929042935371399\n",
      "Loss after iteration 2 = 0.6904127597808838\n",
      "Loss after iteration 3 = 0.6693368554115295\n",
      "Loss after iteration 4 = 0.6283369064331055\n",
      "Loss after iteration 5 = 0.5689628720283508\n",
      "Loss after iteration 6 = 0.5062236785888672\n",
      "Loss after iteration 7 = 0.45144152641296387\n",
      "Loss after iteration 8 = 0.39190709590911865\n",
      "Loss after iteration 9 = 0.3385396897792816\n",
      "Loss after iteration 10 = 0.2990885078907013\n",
      "Loss after iteration 11 = 0.28444719314575195\n",
      "Loss after iteration 12 = 0.33416274189949036\n",
      "Loss after iteration 13 = 0.3461501896381378\n",
      "Loss after iteration 14 = 0.26711153984069824\n",
      "Loss after iteration 15 = 0.28220951557159424\n",
      "Loss after iteration 16 = 0.24875901639461517\n",
      "Loss after iteration 17 = 0.2179461270570755\n",
      "Loss after iteration 18 = 0.23494328558444977\n",
      "Loss after iteration 19 = 0.19724489748477936\n",
      "Loss after iteration 20 = 0.19292905926704407\n",
      "Loss after iteration 21 = 0.19498281180858612\n",
      "Loss after iteration 22 = 0.16684584319591522\n",
      "Loss after iteration 23 = 0.1672348827123642\n",
      "Loss after iteration 24 = 0.16434314846992493\n",
      "Loss after iteration 25 = 0.1431593894958496\n",
      "Loss after iteration 26 = 0.13889753818511963\n",
      "Loss after iteration 27 = 0.13167278468608856\n",
      "Loss after iteration 28 = 0.11241612583398819\n",
      "Loss after iteration 29 = 0.10779938846826553\n",
      "Loss after iteration 30 = 0.098935067653656\n",
      "Loss after iteration 31 = 0.0838744193315506\n",
      "Loss after iteration 32 = 0.0800030529499054\n",
      "Loss after iteration 33 = 0.07016824930906296\n",
      "Loss after iteration 34 = 0.06005411595106125\n",
      "Loss after iteration 35 = 0.056783612817525864\n",
      "Loss after iteration 36 = 0.04883350804448128\n",
      "Loss after iteration 37 = 0.04255085065960884\n",
      "Loss after iteration 38 = 0.03943416476249695\n",
      "Loss after iteration 39 = 0.033122118562459946\n",
      "Loss after iteration 40 = 0.028533348813652992\n",
      "Loss after iteration 41 = 0.026058072224259377\n",
      "Loss after iteration 42 = 0.022690393030643463\n",
      "Loss after iteration 43 = 0.02011910080909729\n",
      "Loss after iteration 44 = 0.01815667748451233\n",
      "Loss after iteration 45 = 0.015736037865281105\n",
      "Loss after iteration 46 = 0.013719795271754265\n",
      "Loss after iteration 47 = 0.012259992770850658\n",
      "Loss after iteration 48 = 0.011078661307692528\n",
      "Loss after iteration 49 = 0.010000954382121563\n",
      "Loss after iteration 50 = 0.008973121643066406\n"
     ]
    }
   ],
   "source": [
    "EPOCHS = 50\n",
    "\n",
    "# Loop for number of Epochs\n",
    "for epoch in range(EPOCHS):\n",
    "    \n",
    "    \n",
    "    # Forward Propagation (calling the forward method of the neural network)\n",
    "    outputs = model(X_train)\n",
    "    # Convert to 1D to match Y_train shape\n",
    "    outputs = outputs.squeeze(1)\n",
    "    \n",
    "    \n",
    "    # Compute Loss between outputs and true labels\n",
    "    loss = error(outputs, y_train)  # error is the loss function defined earlier\n",
    "    \n",
    "    \n",
    "    # Clears gradients before computing the new gradients for the next iteration \n",
    "    optimize.zero_grad()\n",
    "    \n",
    "    # Backward propogation \n",
    "    # Computes gradients of the loss function with respect to the parameters\n",
    "    loss.backward()\n",
    "    \n",
    "    # Uses the chosen optimizer (Adam) to adjust the model's weights based on the gradients calculated in the backpropagation step\n",
    "    optimize.step()\n",
    "    \n",
    "    print(f\"Loss after iteration {epoch} = {loss}\")"
   ]
  },
  {
   "cell_type": "markdown",
   "metadata": {},
   "source": [
    "Evaluate the Model (Accuracy)"
   ]
  },
  {
   "cell_type": "code",
   "execution_count": 18,
   "metadata": {},
   "outputs": [
    {
     "name": "stdout",
     "output_type": "stream",
     "text": [
      "tensor([8.4854])\n",
      "tensor(1, dtype=torch.int32)\n",
      "Accuracy of the model is 0.9026131558882651\n"
     ]
    }
   ],
   "source": [
    "with torch.no_grad():     # Disable Gradient Computation\n",
    "    # Perform forward pass using X_test data\n",
    "    # Shape is [batch_size, 1]\n",
    "    y_pred = model(X_test)  \n",
    "    print(y_pred[0])\n",
    "    \n",
    "    # Convert y_pred output into labels (0 or 1)\n",
    "    # reshape from [batch_size, 1] to [batch_size]\n",
    "    # if greater than 0 (True) then class 1, less than or equal to 0 (False) then class 0\n",
    "    # Turn boolean into integer values\n",
    "    y_pred_labels = (y_pred.squeeze(1) > 0).int()\n",
    "    print(y_pred_labels[0])\n",
    "    \n",
    "    # Calculate Accuracy \n",
    "    # compare predicted labels with actual labels \n",
    "    # divides by the total number of samples in y_test \n",
    "    accuracy = (y_pred_labels == y_test).sum().item() / y_test.size(0)\n",
    "    print(f\"Accuracy of the model is {accuracy}\")"
   ]
  },
  {
   "cell_type": "markdown",
   "metadata": {},
   "source": [
    "Confusion Matrix"
   ]
  },
  {
   "cell_type": "code",
   "execution_count": 19,
   "metadata": {},
   "outputs": [
    {
     "data": {
      "image/png": "[encoded data removed]",
      "text/plain": [
       "<Figure size 640x480 with 2 Axes>"
      ]
     },
     "metadata": {},
     "output_type": "display_data"
    }
   ],
   "source": [
    "from sklearn import metrics\n",
    "import matplotlib.pyplot as plt\n",
    "\n",
    "# Compute confusion matrix. Comparing true with predicyed labels\n",
    "confusion_matrix = metrics.confusion_matrix(y_test, y_pred_labels)\n",
    "\n",
    "# Display confusion matrix\n",
    "cm_display = metrics.ConfusionMatrixDisplay(confusion_matrix = confusion_matrix, display_labels = [0, 1])\n",
    "\n",
    "cm_display.plot()\n",
    "plt.show()"
   ]
  }
 ],
 "metadata": {
  "kernelspec": {
   "display_name": "Python 3 (ipykernel)",
   "language": "python",
   "name": "python3"
  },
  "language_info": {
   "codemirror_mode": {
    "name": "ipython",
    "version": 3
   },
   "file_extension": ".py",
   "mimetype": "text/x-python",
   "name": "python",
   "nbconvert_exporter": "python",
   "pygments_lexer": "ipython3",
   "version": "3.12.0"
  }
 },
 "nbformat": 4,
 "nbformat_minor": 4
}
